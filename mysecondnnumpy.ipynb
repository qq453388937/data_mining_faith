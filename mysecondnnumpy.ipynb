{
 "cells": [
  {
   "cell_type": "code",
   "execution_count": 2,
   "metadata": {},
   "outputs": [
    {
     "name": "stdout",
     "output_type": "stream",
     "text": [
      "0.08375287055969238 0.02260303497314453\n"
     ]
    }
   ],
   "source": [
    "import random\n",
    "import time\n",
    "import numpy as np\n",
    "import numpy\n",
    "a = []\n",
    "for i in range(10000000):\n",
    "    a.append(random.random())\n",
    "\n",
    "t1 = time.time()\n",
    "sum1=sum(a)\n",
    "t2=time.time()\n",
    "b = numpy.array(a)\n",
    "t4 = time.time()\n",
    "sum3 = numpy.sum(b)\n",
    "t5 = time.time()\n",
    "print(t2-t1,t5-t4)\n",
    "\n",
    "# help(numpy.sum)"
   ]
  },
  {
   "cell_type": "code",
   "execution_count": 30,
   "metadata": {},
   "outputs": [
    {
     "name": "stdout",
     "output_type": "stream",
     "text": [
      "[4 6]\n",
      "[3 7]\n",
      "()\n",
      "(4,)\n",
      "形状 (2, 2, 3)\n",
      "[[[1 2 3]\n",
      "  [4 5 6]]\n",
      "\n",
      " [[1 2 3]\n",
      "  [4 5 6]]]\n",
      " 行数--> 2\n",
      " dtype----->  int64\n",
      " 维度------> 3\n",
      " size-----> 12\n",
      "[[1 2]\n",
      " [4 5]]\n",
      "=======\n",
      "(500, 504)\n"
     ]
    },
    {
     "data": {
      "text/plain": [
       "array([[-0.31170748, -0.02902754, -0.34776164],\n",
       "       [ 0.01356558, -0.36383586,  0.13331538],\n",
       "       [ 0.03083632, -0.63681273,  1.46847983],\n",
       "       [-0.87679025, -0.54192134, -1.2905889 ],\n",
       "       [ 1.06543664,  0.99118431, -1.24206399]])"
      ]
     },
     "execution_count": 30,
     "metadata": {},
     "output_type": "execute_result"
    }
   ],
   "source": [
    "np.sum([1.5,2.5])\n",
    "np.sum([1.5,2.5],dtype=np.int32)  # 先四舍五入再计算\n",
    "np.sum([[0,1],[2,3.1]],dtype=np.int32)# 也可以是字符串 dtype = 'i2' -> int 16  'i4' -> int 32 'i8' -> int 64\n",
    "print(np.sum([[1,2],[3,4]],axis=0))  # 列相加,第一个加第一个   1轴竖着的\n",
    "\n",
    "print(np.sum([[1,2],[3,4]],axis=1))  # 行相加 列表内部相加  0轴横着的\n",
    "res = np.array(0)\n",
    "print(res.shape)\n",
    "res = np.array([1,2,3,4])  # 1 维数组\n",
    "print(res.shape)  # (4,)   \n",
    "res = np.array([[1,2],[3,4]])\n",
    "# print(res[1][0])\n",
    "# print(res.shape) #  (2, 2)  2 行 2 列   2维数组\n",
    "res = np.array([[[1,2,3],[4,5,6]],[[1,2,3],[4,5,6]]])  \n",
    "print('形状',res.shape) #  (2, 2, 3)  2块2行3列  3维数组  看图\n",
    "print(res)\n",
    "type(res)\n",
    "print(\" 行数-->\", res.shape[0])\n",
    "print(\" dtype-----> \",res.dtype)  # int64 类型\n",
    "print(\" 维度------>\",res.ndim)  # 返回维度\n",
    "print(\" size----->\",res.size)  # 内层元素数量\n",
    "# help(res.size)\n",
    "# print(res.flags)\n",
    "# help(res.flags)\n",
    "np.random.randint(10)  # int 类型 随机数\n",
    "np.random.uniform(10)  # float 类型  随机数\n",
    "np.random.uniform(0,10,100)   # 0到10 100个 float 随机数\n",
    "np.random.uniform(0,10,(2,3))  # 生成2行3列的 float 随机数\n",
    "# np.random.random(10)\n",
    "# 生成一个符合正态分布的多维数据\n",
    "np.random.normal(0,1,size=(3,5))  # 创建标准正态分布的3行5列的数据  size 就是shape的含义\n",
    "np.random.standard_normal(size=(3,5))  # 直接创建符合标准正态分布的3行5列的数据 size 就是 shape的含义\n",
    "# 生成500个股票2年随机数据\n",
    "stock_data = np.random.normal(0,1,size=(500,252*2))\n",
    "stock_data[0][:100]  # 第一个股票的前100个\n",
    "stock_data[0:5][:100]  # 前5个股票的前100个\n",
    "stock_data[:5,:100]\n",
    "docker = stock_data[0:5,0:100].copy()  # copy指定范围然后判断条件\n",
    "# print(docker[docker[0:5,0:100]>0])\n",
    "\"\"\"as type 修改类型\"\"\"\n",
    "np.unique(stock_data.astype(np.int64))\n",
    "\n",
    "\n",
    "# bool_b = np.all(stock_data>-100)  # 判断里面所有元素是否都大于0  or 都大于-100\n",
    "# np.unique(stock_data)\n",
    "# help(np.unique)\n",
    "# stock_data[stock_data>0]  # 取符合条件的数据 转换为一维\n",
    "# # stock_data[:10][:200][stock_data>0]\n",
    "# res = np.round(stock_data,2)  # n维数组四舍五入\n",
    "# res = stock_data.astype(np.float16)  # n维数组元素强制转换类型\n",
    "# # res = stock_data.reshape((1,1))\n",
    "# res = np.array([[1,2,3]])\n",
    "# res2 = res.reshape((1,3))\n",
    "# res\n",
    "# res2\n",
    "aa = np.array([[1,2,3],[4,5,6]])\n",
    "print(aa[:2,:2])  # 先行后列\n",
    "print(\"=======\")\n",
    "print(stock_data.shape)\n",
    "stock_data[0:5,0:10]\n",
    "stock_data[0:5][0:10]\n",
    "stock_data[:,0:2]   # 所有行只要前2列 \n",
    "stock_data[:2,:]    # 所有列只要前2行\n",
    "stock_data[[0,1,2,3,4,5]][0:3]     # 取5列3行\n",
    "stock_data[0:5,0:3]     # 取5列3行\n",
    "\n",
    "\n",
    "\n"
   ]
  },
  {
   "cell_type": "code",
   "execution_count": 3,
   "metadata": {},
   "outputs": [
    {
     "name": "stdout",
     "output_type": "stream",
     "text": [
      "[ 0  2  4  6  8 10 12 14 16 18]\n",
      "[1.e+01 1.e+02 1.e+03 1.e+04 1.e+05 1.e+06 1.e+07 1.e+08]\n"
     ]
    }
   ],
   "source": [
    "import numpy as np\n",
    "# 创建的数组都是(float) 类型  有点的都是float类型\n",
    "a=np.ones(shape=(2,3))  # [1.0,1.0]\n",
    "# a=np.ones(shape=(2,3),dtype=np.float32,order=\"C\")\n",
    "b=np.zeros(shape=(3,2))\n",
    "# print(a)\n",
    "# print(a.dtype)  # float32 \n",
    "# print(a.flags)\n",
    "# print(a[1][1])  # 1.0 \n",
    "# print(b[0][0])  # 0.0\n",
    "c = np.empty(shape=(2,3))  # 创建空的\n",
    "c = np.eye(5)\n",
    "c = np.identity(5)\n",
    "c = np.full(shape=(3,2),fill_value=5)\n",
    "# print(c.dtype)\n",
    "# print(c)\n",
    "a = np.array([[1,2],[3,4]])\n",
    "b = np.array(a)  # 重新开辟内存\n",
    "c = np.asarray(a)  # 引用指向 a\n",
    "# print(a)\n",
    "# print(b)\n",
    "# print(c)\n",
    "# a[1][1] = 3\n",
    "# print(a)\n",
    "# print(b)\n",
    "# print(c)\n",
    "\n",
    "\n",
    "# 生成等差数列  \n",
    "# numpy.linspace(start, stop, num, endpoint, base, dtype)\n",
    "res = np.linspace(0,20,3,True,retstep=True,dtype=np.float)\n",
    "# print(res)\n",
    "\n",
    "# 生成等差数列2\n",
    "res = np.arange(0,20,2)  # 可以类比range() 使用 \n",
    "print(res)\n",
    "\n",
    "# 生成等比数列\n",
    "# numpy.logspace(start, stop, num, endpoint, base, dtype)\n",
    "res = np.logspace(1,8,8)\n",
    "print(res)\n"
   ]
  },
  {
   "cell_type": "code",
   "execution_count": 4,
   "metadata": {},
   "outputs": [
    {
     "name": "stdout",
     "output_type": "stream",
     "text": [
      "<class 'numpy.ndarray'>\n",
      "<class 'numpy.ndarray'>\n",
      "()\n",
      "(4,)\n",
      "(2, 4)\n",
      "(2, 2, 4)\n",
      "int64\n",
      "[[1. 1. 1.]\n",
      " [1. 1. 1.]]\n",
      "float64\n",
      "[[0. 0.]\n",
      " [0. 0.]\n",
      " [0. 0.]]\n",
      "float64\n"
     ]
    }
   ],
   "source": [
    "import numpy as np\n",
    "a = np.array(0)  # 创建一个数组  0维数组,\n",
    "print(type(a))  # <class 'numpy.ndarray'>\n",
    "b = np.array([1,2,3,4])\n",
    "print(type(b))\n",
    "print(a.shape)  # ()\n",
    "print(b.shape)  # (4,)   4行\n",
    "# 二维数组\n",
    "c = np.array([[1,2,3,4],[5,6,7,8]])\n",
    "print(c.shape)  # (2, 4)  2行和4列 的数组\n",
    "# 三维数组\n",
    "d = np.array([[[1,2,3,4],[5,6,7,8]],[[1,2,3,4],[5,6,7,8]]])\n",
    "print(d.shape) # (2, 2, 4) 一般叫做块  2 块 2 行 4 列\n",
    "# dtype('int32')  范围不同  uint 无符号\n",
    "print(d.dtype)\n",
    "e=np.ones(shape=(2,3))\n",
    "print(e)#[[ 1.  1.  1.]  [ 1.  1.  1.]]  c创建的均为1 float类型\n",
    "print(e.dtype) # float64\n",
    "\n",
    "f=np.zeros(shape=(3,2)) #[[ 0.  0.][ 0.  0.][ 0.  0.]]\n",
    "print(f)\n",
    "print(f.dtype)"
   ]
  },
  {
   "cell_type": "code",
   "execution_count": 5,
   "metadata": {},
   "outputs": [
    {
     "name": "stdout",
     "output_type": "stream",
     "text": [
      "[[2 3]\n",
      " [4 5]]\n",
      "[[1 2]\n",
      " [3 4]]\n",
      "[[1 2]\n",
      " [3 4]]\n"
     ]
    }
   ],
   "source": [
    "a = np.array([[1,2],[3,4]])\n",
    "\n",
    "b = np.array(a)\n",
    "c = np.asarray(b)  # 拷贝引用\n",
    "a = a+1 \n",
    "print(a)\n",
    "print(b)\n",
    "print(c)\n"
   ]
  },
  {
   "cell_type": "code",
   "execution_count": 6,
   "metadata": {},
   "outputs": [
    {
     "data": {
      "text/plain": [
       "array([0, 1, 2, 3, 4, 5, 6, 7, 8, 9])"
      ]
     },
     "execution_count": 6,
     "metadata": {},
     "output_type": "execute_result"
    }
   ],
   "source": [
    "\n",
    "np.arange(10)"
   ]
  },
  {
   "cell_type": "code",
   "execution_count": 7,
   "metadata": {},
   "outputs": [
    {
     "data": {
      "text/plain": [
       "array([ 0.,  1.,  2.,  3.,  4.,  5.,  6.,  7.,  8.,  9., 10.])"
      ]
     },
     "execution_count": 7,
     "metadata": {},
     "output_type": "execute_result"
    }
   ],
   "source": [
    "np.linspace(0,10,11)"
   ]
  },
  {
   "cell_type": "code",
   "execution_count": 8,
   "metadata": {},
   "outputs": [
    {
     "data": {
      "text/plain": [
       "array([1.e+000, 1.e+050, 1.e+100])"
      ]
     },
     "execution_count": 8,
     "metadata": {},
     "output_type": "execute_result"
    }
   ],
   "source": [
    "np.logspace(0,100,3)"
   ]
  },
  {
   "cell_type": "code",
   "execution_count": 9,
   "metadata": {},
   "outputs": [
    {
     "name": "stdout",
     "output_type": "stream",
     "text": [
      "3\n",
      "2.4457404287826234\n",
      "[1.76474034 1.08879899 2.02309233 1.62709799 1.37102349 2.72575525\n",
      " 1.92983582 1.78386149 1.44857661 1.02022722 1.35996817 1.45606763\n",
      " 2.37860465 1.56016805 2.13350755 2.72276104 2.03715432 1.22227512\n",
      " 2.76473271 2.78325745 1.03680948 2.25008265 2.38928975 1.19240625\n",
      " 1.57238407 1.48894979 1.20525868 1.90206537 1.71513816 2.23447176\n",
      " 2.08048581 1.93034134 1.12248454 2.23952933 2.02981405 1.14186445\n",
      " 2.9636422  1.37642099 1.42866092 2.82883671 2.27689219 2.9780462\n",
      " 1.37826662 1.65967348 2.52401248 1.9940646  1.43336095 2.18018577\n",
      " 1.60515631 1.91324952 2.81954134 1.38867517 1.85738783 1.56600973\n",
      " 2.25987619 1.7363973  1.13111593 1.91068844 1.83806447 1.30741214\n",
      " 1.51880262 2.37712611 1.4273358  2.14301216 1.59283629 1.94674525\n",
      " 1.10723182 1.68588172 2.20661579 2.15244212 1.89819813 2.11126879\n",
      " 1.80595722 1.63707965 2.81998215 2.86865082 1.61209866 2.8011966\n",
      " 2.09690358 2.8521828  1.33943232 2.8628486  2.32476814 2.86002214\n",
      " 1.07177803 2.9505329  2.68117178 1.41464519 1.06348921 2.90817161\n",
      " 2.77139329 2.55588821 1.77357362 1.95392478 2.00465737 2.86868093\n",
      " 2.29838644 2.23579383 1.13419824 2.14484731]\n",
      "[[0.36848193 0.55200083 0.83015534]\n",
      " [0.19383377 0.239252   0.48449706]]\n",
      "[0.5980291  0.93383156 0.90854839 0.5375912  0.16990298 0.0317492\n",
      " 0.17765936 0.81862736 0.19378458 0.83632632]\n"
     ]
    }
   ],
   "source": [
    "print(np.random.randint(10))\n",
    "print(np.random.uniform(10))\n",
    "print(np.random.uniform(1,3,100))\n",
    " # 2行3列的随机数\n",
    "print(np.random.uniform(0,1,(2,3)))  # 2行3列的随机数\n",
    "print(np.random.rand(10))\n"
   ]
  },
  {
   "cell_type": "code",
   "execution_count": 10,
   "metadata": {},
   "outputs": [
    {
     "data": {
      "text/plain": [
       "array([0.00104634, 0.09956317, 0.40319599, 0.31964823, 0.04007843,\n",
       "       0.95363562, 0.77909569, 0.71475695, 0.2313464 , 0.59016856])"
      ]
     },
     "execution_count": 10,
     "metadata": {},
     "output_type": "execute_result"
    }
   ],
   "source": [
    "np.random.rand(10) "
   ]
  },
  {
   "cell_type": "code",
   "execution_count": 11,
   "metadata": {},
   "outputs": [
    {
     "name": "stdout",
     "output_type": "stream",
     "text": [
      "[[  1   2]\n",
      " [  3 666]]\n",
      "[[1 2]\n",
      " [3 4]]\n",
      "[[  1   2]\n",
      " [  3 666]]\n"
     ]
    }
   ],
   "source": [
    "a = np.array([[1,2],[3,4]])\n",
    "\n",
    "b = np.array(a)\n",
    "c = np.asarray(a)  # 拷贝引用\n",
    "a[1][1] = 666  \n",
    "print(a)\n",
    "print(b)\n",
    "print(c)"
   ]
  },
  {
   "cell_type": "code",
   "execution_count": 12,
   "metadata": {},
   "outputs": [
    {
     "data": {
      "text/plain": [
       "array([[ 0.3989554 ,  0.34820816,  0.31245026],\n",
       "       [-0.34810385,  0.18989232,  1.84078255]])"
      ]
     },
     "execution_count": 12,
     "metadata": {},
     "output_type": "execute_result"
    }
   ],
   "source": [
    "np.random.normal(0,1.0,(2,3))"
   ]
  },
  {
   "cell_type": "code",
   "execution_count": 13,
   "metadata": {},
   "outputs": [
    {
     "data": {
      "text/plain": [
       "array([[-1.75251066,  0.10991337, -0.11484767,  0.37459767],\n",
       "       [ 0.31169321,  0.40076811, -0.09028902, -0.12645448]])"
      ]
     },
     "execution_count": 13,
     "metadata": {},
     "output_type": "execute_result"
    }
   ],
   "source": [
    "np.random.standard_normal(size=(2,4))"
   ]
  },
  {
   "cell_type": "code",
   "execution_count": 14,
   "metadata": {},
   "outputs": [
    {
     "name": "stdout",
     "output_type": "stream",
     "text": [
      "[[-1.14913803e+00 -1.08028849e+00  2.71185156e-01 ...  1.88257163e-01\n",
      "  -9.22014043e-01 -5.54064499e-01]\n",
      " [ 5.01858485e-02 -2.41826855e-01 -1.54139572e+00 ... -7.08935985e-01\n",
      "   2.64777580e-01 -1.14459817e+00]\n",
      " [-2.05912519e-01 -4.94518990e-01  1.04592514e-04 ...  2.51332000e-01\n",
      "  -5.60063593e-01  4.71860080e-01]\n",
      " ...\n",
      " [-1.29129408e+00  2.76692601e-01  2.04746195e-03 ... -1.81133489e+00\n",
      "  -9.55351931e-01 -1.55848358e+00]\n",
      " [ 4.54792654e-01 -1.90611345e+00 -8.03638769e-01 ...  1.73963000e+00\n",
      "   6.58434697e-01  8.82708449e-01]\n",
      " [ 6.41513457e-01  1.94549153e-01 -7.41096047e-01 ...  9.63228416e-01\n",
      "   9.03942296e-01  3.35343248e-01]]\n",
      "[[-1.14913803e+00 -1.08028849e+00  2.71185156e-01 ...  4.20492273e-01\n",
      "  -5.13963704e-02  9.20900295e-01]\n",
      " [ 5.01858485e-02 -2.41826855e-01 -1.54139572e+00 ...  9.95979858e-01\n",
      "   6.52699021e-01  1.73433346e+00]\n",
      " [-2.05912519e-01 -4.94518990e-01  1.04592514e-04 ...  8.58121729e-01\n",
      "   1.67587427e+00  3.30717027e-01]\n",
      " ...\n",
      " [-1.29129408e+00  2.76692601e-01  2.04746195e-03 ...  4.41577076e-01\n",
      "  -4.44570927e-01 -1.28321983e-01]\n",
      " [ 4.54792654e-01 -1.90611345e+00 -8.03638769e-01 ... -1.05420874e+00\n",
      "   6.21104309e-01 -1.75258911e+00]\n",
      " [ 6.41513457e-01  1.94549153e-01 -7.41096047e-01 ...  1.29707678e-01\n",
      "   4.94583282e-02  1.28603863e+00]]\n",
      "=============\n",
      "[-4.24417887 -4.22551489 -4.20872019 ...  4.38807869  4.41722003\n",
      "  4.64506286]\n",
      "float64\n",
      "int64\n"
     ]
    },
    {
     "data": {
      "text/plain": [
       "array([-4, -3, -2, -1,  0,  1,  2,  3,  4])"
      ]
     },
     "execution_count": 14,
     "metadata": {},
     "output_type": "execute_result"
    }
   ],
   "source": [
    "stock_data = np.random.normal(0,1,(500,252*2))\n",
    "# print(stock_data)\n",
    "# print(stock_data[0:5][:100])\n",
    "# stock_data[stock_data>0]\n",
    "print(stock_data[:10][:200])\n",
    "print(stock_data[:10,:200])  # pandas 简写\n",
    "# 是否全部符合传入参数的条件\n",
    "np.all(stock_data>0)  #False\n",
    "print(\"=============\")\n",
    "print(np.unique(stock_data))  # 剔除一样的\n",
    "print(stock_data.dtype) # float64\n",
    "stock_data = stock_data.astype(np.float32)  # 改变类型\n",
    "stock_data = stock_data.astype(np.int64)  # 改变类型\n",
    "print(stock_data.dtype) # float32\n",
    "np.unique(stock_data)   # 去重 剩下"
   ]
  },
  {
   "cell_type": "code",
   "execution_count": 18,
   "metadata": {},
   "outputs": [
    {
     "name": "stdout",
     "output_type": "stream",
     "text": [
      "[[-0.07938182 -0.00879721  1.5218551  ... -0.22910412  1.13144962\n",
      "   1.92502123]\n",
      " [ 0.63052401  0.88765122 -0.2894014  ...  0.22941797 -0.95896983\n",
      "   0.43626045]\n",
      " [ 0.55084593 -0.18031661 -1.25617782 ...  1.75724861  0.0703419\n",
      "   0.43608842]\n",
      " ...\n",
      " [ 0.56553643  1.21044136  0.15766515 ... -0.83769111 -1.41618485\n",
      "   0.10796181]\n",
      " [-0.49965244  0.5649238   0.45170383 ...  1.27151137 -0.02810756\n",
      "   1.30865482]\n",
      " [ 0.06023236  1.73857714 -0.52928425 ...  0.61076913  2.10684735\n",
      "  -0.08939646]]\n"
     ]
    },
    {
     "data": {
      "text/plain": [
       "array([[-0.41343567,  0.56600074, -1.17734198, ...,  1.76317413,\n",
       "         0.20172492, -0.03707948],\n",
       "       [ 1.67212431,  0.89307978, -0.58828407, ...,  0.9664487 ,\n",
       "        -1.01736998, -0.56847923],\n",
       "       [-0.43026343, -1.09863362,  0.27082407, ..., -0.89530042,\n",
       "         1.02406368,  0.33305818],\n",
       "       ...,\n",
       "       [ 1.19033589,  2.0509563 , -1.64539547, ..., -0.65606944,\n",
       "         0.6134278 ,  0.53282584],\n",
       "       [-0.1749613 , -0.28564798,  0.00652373, ..., -0.23794586,\n",
       "         0.6488287 ,  0.14124481],\n",
       "       [-0.08859993, -0.30417019,  0.59020497, ...,  0.35202407,\n",
       "        -0.86125346, -0.90384956]])"
      ]
     },
     "execution_count": 18,
     "metadata": {},
     "output_type": "execute_result"
    }
   ],
   "source": [
    "a = np.random.normal(0,1,(500,252*2))\n",
    "print(stock_data)\n",
    "# numpy的三元运算符\n",
    "# 参数1 条件 , \n",
    "#  参数 2 条件成立的结果  \n",
    "#  参数 3 条件不成立的结果\n",
    "np.where (stock_data>0, 100 , 0)         # 不改变元数据\n",
    "np.where (np.logical_and(a>0,a<1),100,0) # 不改变元数据\n",
    "np.where (np.logical_or(a>0,a<-1),100,1) # 不改变原数据\n",
    "a"
   ]
  },
  {
   "cell_type": "code",
   "execution_count": 16,
   "metadata": {},
   "outputs": [
    {
     "ename": "SyntaxError",
     "evalue": "invalid syntax (<ipython-input-16-47ba5afcfbd0>, line 1)",
     "output_type": "error",
     "traceback": [
      "\u001b[0;36m  File \u001b[0;32m\"<ipython-input-16-47ba5afcfbd0>\"\u001b[0;36m, line \u001b[0;32m1\u001b[0m\n\u001b[0;31m    np.min(stock_data[:5,[:5]])\u001b[0m\n\u001b[0m                          ^\u001b[0m\n\u001b[0;31mSyntaxError\u001b[0m\u001b[0;31m:\u001b[0m invalid syntax\n"
     ]
    }
   ],
   "source": [
    "np.min(stock_data[:5,[:5]])\n",
    "\"\"\"方差和标准差表示数据离散程度\"\"\"\n"
   ]
  },
  {
   "cell_type": "code",
   "execution_count": null,
   "metadata": {},
   "outputs": [],
   "source": [
    "np.min(stock_data[:5,:5])"
   ]
  },
  {
   "cell_type": "code",
   "execution_count": null,
   "metadata": {},
   "outputs": [],
   "source": [
    "np.mean(stock_data[:5,:5],axis=0)"
   ]
  },
  {
   "cell_type": "code",
   "execution_count": null,
   "metadata": {},
   "outputs": [],
   "source": [
    "a = np.array([[1,2,3],[4,5,6]])\n",
    "np.mean(a)  # 21/6\n",
    "np.mean(a,axis=1)  # (1+4)/2   列的均值\n",
    "np.mean(a,axis=0)  # (1+2+3)/2  行的均值\n",
    "np.argmax(a,axis=1)  # 最大值的索引 行 or 列\n",
    "a = a+1  # 广播机制\n",
    "a = a+b  # 对应元素相加\n",
    "\n"
   ]
  },
  {
   "cell_type": "code",
   "execution_count": 21,
   "metadata": {
    "collapsed": true
   },
   "outputs": [
    {
     "name": "stdout",
     "output_type": "stream",
     "text": [
      "[[84.2]\n",
      " [80.6]\n",
      " [80.1]\n",
      " [90. ]\n",
      " [83.2]\n",
      " [87.6]\n",
      " [79.4]\n",
      " [93.4]]\n"
     ]
    }
   ],
   "source": [
    "# (m行,l列)*(l行,n列) = (m行,n列)\n",
    "# (8,2)*(2,1) = (8,1)\n",
    "a=[[80,86],\n",
    "[82,80],\n",
    "[85,78],\n",
    "[90,90],\n",
    "[86,82],\n",
    "[82,90],\n",
    "[78,80],\n",
    "[92,94]]\n",
    "b=[[0.3],[0.7]]\n",
    "   \n",
    "cc=np.matmul(a,b)  # 矩阵相乘 获取最终成绩\n",
    "print(cc)\n",
    "# help(np.matmul)"
   ]
  },
  {
   "cell_type": "code",
   "execution_count": 26,
   "metadata": {},
   "outputs": [
    {
     "name": "stdout",
     "output_type": "stream",
     "text": [
      "[[list([1, 2, 3, 4, 5]) list([6, 7, 8, 9])]\n",
      " [list([55, 44, 33, 22, 11]) list([222, 333, 444, 555])]]\n",
      "[list([1, 2, 3, 4, 5]) list([6, 7, 8, 9]) list([55, 44, 33, 22, 11])\n",
      " list([222, 333, 444, 555])]\n"
     ]
    }
   ],
   "source": [
    "a=np.array([[1,2,3,4,5],[6,7,8,9]])\n",
    "b=np.array([[55,44,33,22,11],[222,333,444,555]])\n",
    "res=np.vstack((a,b)) # 竖直拼接 列数不变 行数增大\n",
    "res2=np.hstack((a,b)) # 水平拼接 行数不变 列数增加\n",
    "print(res)\n",
    "print(res2)\n"
   ]
  },
  {
   "cell_type": "code",
   "execution_count": null,
   "metadata": {},
   "outputs": [],
   "source": [
    "np.genfromtxt(\"*.csv\",delimiter=\",\")\n",
    "# 一般填充列的均值\n",
    "# 期望为0 方差为1"
   ]
  }
 ],
 "metadata": {
  "kernelspec": {
   "display_name": "Python 3",
   "language": "python",
   "name": "python3"
  },
  "language_info": {
   "codemirror_mode": {
    "name": "ipython",
    "version": 3
   },
   "file_extension": ".py",
   "mimetype": "text/x-python",
   "name": "python",
   "nbconvert_exporter": "python",
   "pygments_lexer": "ipython3",
   "version": "3.6.5"
  }
 },
 "nbformat": 4,
 "nbformat_minor": 2
}
