{
 "cells": [
  {
   "cell_type": "code",
   "execution_count": 1,
   "metadata": {},
   "outputs": [],
   "source": [
    "print(\"hello world\")"
   ]
  },
  {
   "cell_type": "markdown",
   "metadata": {},
   "source": [
    "print(\"hello world\")"
   ]
  },
  {
   "cell_type": "markdown",
   "metadata": {},
   "source": [
    "#大字号"
   ]
  },
  {
   "cell_type": "markdown",
   "metadata": {},
   "source": [
    "### 大字号"
   ]
  },
  {
   "cell_type": "markdown",
   "metadata": {},
   "source": [
    "# 大"
   ]
  },
  {
   "cell_type": "code",
   "execution_count": 2,
   "metadata": {},
   "outputs": [],
   "source": [
    "import matplotlib.pyplot as plt"
   ]
  },
  {
   "cell_type": "code",
   "execution_count": 3,
   "metadata": {},
   "outputs": [
    {
     "data": {
      "image/png": "[encoded data removed]",
      "text/plain": [
       "<Figure size 432x288 with 1 Axes>"
      ]
     },
     "metadata": {},
     "output_type": "display_data"
    }
   ],
   "source": [
    "x=[1,2,3,4]\n",
    "y=[10,20,30,40]\n",
    "plt.plot(x,y)\n",
    "plt.show()"
   ]
  },
  {
   "cell_type": "code",
   "execution_count": 4,
   "metadata": {},
   "outputs": [],
   "source": [
    "from matplotlib import pyplot"
   ]
  },
  {
   "cell_type": "code",
   "execution_count": 5,
   "metadata": {},
   "outputs": [
    {
     "data": {
      "image/png": "[encoded data removed]",
      "text/plain": [
       "<Figure size 432x288 with 1 Axes>"
      ]
     },
     "metadata": {},
     "output_type": "display_data"
    }
   ],
   "source": [
    "x=[1,2,3,4]\n",
    "y=[10,40,30,40]\n",
    "pyplot.plot(x,y)\n",
    "pyplot.show()"
   ]
  },
  {
   "cell_type": "code",
   "execution_count": null,
   "metadata": {},
   "outputs": [],
   "source": [
    "x=[12,33,42,123,12,3,21,12,3]\n",
    "y=(range(0,8))\n",
    "pyplot.plot(x,y)\n",
    "pyplot.show()\n"
   ]
  },
  {
   "cell_type": "code",
   "execution_count": null,
   "metadata": {},
   "outputs": [],
   "source": [
    "x=[12,33,42,123,12,3,21,12,3]\n",
    "y=[range(1,8)]\n",
    "\n",
    "pyplot.plot(x,y)\n",
    "pyplot.show()"
   ]
  },
  {
   "cell_type": "code",
   "execution_count": null,
   "metadata": {},
   "outputs": [],
   "source": [
    "y=[17,17,18,15,11,11,13]\n",
    "x=list(range(0,8))\n",
    "pyplot.plot(x,y)\n",
    "pyplot.show()\n"
   ]
  },
  {
   "cell_type": "code",
   "execution_count": null,
   "metadata": {},
   "outputs": [],
   "source": [
    "pyplot.figure(figsize=(20,8),dpi=100)\n",
    "y=[15,13,14.5,17,20,25,26,26,27,22,18,15]\n",
    "x=range(2,26,2)\n",
    "pyplot.plot(x,y)\n",
    "pyplot.show()\n",
    "\n"
   ]
  },
  {
   "cell_type": "code",
   "execution_count": null,
   "metadata": {},
   "outputs": [],
   "source": [
    "pyplot.figure(figsize=(20,8),dpi=100)\n",
    "y=[15,13,14.5,17,20,25,26,26,27,22,18,15]\n",
    "x=range(2,26,2)\n",
    "pyplot.plot(x,y)\n",
    "pyplot.savefig(\"./test2.png\")\n",
    "pyplot.show()\n"
   ]
  },
  {
   "cell_type": "code",
   "execution_count": null,
   "metadata": {},
   "outputs": [],
   "source": [
    "pyplot.figure(figsize=(20,8),dpi=100)\n",
    "y=[15,13,14.5,17,20,25,26,26,27,22,18,15]\n",
    "x=range(2,26,2)\n",
    "pyplot.plot(x,y)\n",
    "pyplot.savefig(\"/Users/camelia-dev/Desktop/1111111111111.png\")\n",
    "pyplot.show()"
   ]
  },
  {
   "cell_type": "code",
   "execution_count": null,
   "metadata": {},
   "outputs": [],
   "source": [
    "from matplotlib import pyplot\n",
    "pyplot.figure(figsize=(20,8),dpi=100)\n",
    "y=[15,13,14.5,17,20,25,26,26,27,22,18,15]\n",
    "x=range(2,26,2)\n",
    "pyplot.plot(x,y)\n",
    "pyplot.xticks(x[::4])\n",
    "pyplot.savefig(\"/Users/camelia-dev/Desktop/1111111111111.png\")\n",
    "pyplot.show()"
   ]
  },
  {
   "cell_type": "code",
   "execution_count": null,
   "metadata": {},
   "outputs": [],
   "source": [
    "from matplotlib import pyplot\n",
    "pyplot.figure(figsize=(20,8),dpi=100)\n",
    "y=[15,13,14.5,17,20,25,26,26,27,22,18,15]\n",
    "x=range(2,26,2)\n",
    "pyplot.plot(x,y)\n",
    "pyplot.yticks(y)\n",
    "pyplot.savefig(\"/Users/camelia-dev/Desktop/1111111111111.png\")\n",
    "pyplot.show()"
   ]
  },
  {
   "cell_type": "code",
   "execution_count": null,
   "metadata": {},
   "outputs": [],
   "source": [
    "from matplotlib import pyplot\n",
    "from matplotlib import font_manager\n",
    "# 利用字体管理器加载字体\n",
    "my_font=font_manager.FontProperties(fname=\"mmd.ttf\")\n",
    "pyplot.figure(figsize=(10,8),dpi=200)\n",
    "import random\n",
    "y=[random.randint(20,35) for i in range(120)]\n",
    "x=range(120)\n",
    "pyplot.plot(x,y)\n",
    "\n",
    "# 将刻度值变换成刻度的内容:字符串\n",
    "_xticks=[\"10点{}分\".format(i) for i in range(120) if i<60]\n",
    "_xticks+=[\"11点%s分\"%i for i in range(60)]\n",
    "print(_xticks)\n",
    "pyplot.xticks(x[::4],_xticks[::4],rotation=45,font_properties=my_font)\n",
    "pyplot.yticks(y)\n",
    "pyplot.savefig(\"/Users/camelia-dev/Desktop/1111111111111.png\")\n",
    "pyplot.show()"
   ]
  },
  {
   "cell_type": "code",
   "execution_count": 1,
   "metadata": {},
   "outputs": [
    {
     "name": "stdout",
     "output_type": "stream",
     "text": [
      "['10点0分', '10点1分', '10点2分', '10点3分', '10点4分', '10点5分', '10点6分', '10点7分', '10点8分', '10点9分', '10点10分', '10点11分', '10点12分', '10点13分', '10点14分', '10点15分', '10点16分', '10点17分', '10点18分', '10点19分', '10点20分', '10点21分', '10点22分', '10点23分', '10点24分', '10点25分', '10点26分', '10点27分', '10点28分', '10点29分', '10点30分', '10点31分', '10点32分', '10点33分', '10点34分', '10点35分', '10点36分', '10点37分', '10点38分', '10点39分', '10点40分', '10点41分', '10点42分', '10点43分', '10点44分', '10点45分', '10点46分', '10点47分', '10点48分', '10点49分', '10点50分', '10点51分', '10点52分', '10点53分', '10点54分', '10点55分', '10点56分', '10点57分', '10点58分', '10点59分', '11点0分', '11点1分', '11点2分', '11点3分', '11点4分', '11点5分', '11点6分', '11点7分', '11点8分', '11点9分', '11点10分', '11点11分', '11点12分', '11点13分', '11点14分', '11点15分', '11点16分', '11点17分', '11点18分', '11点19分', '11点20分', '11点21分', '11点22分', '11点23分', '11点24分', '11点25分', '11点26分', '11点27分', '11点28分', '11点29分', '11点30分', '11点31分', '11点32分', '11点33分', '11点34分', '11点35分', '11点36分', '11点37分', '11点38分', '11点39分', '11点40分', '11点41分', '11点42分', '11点43分', '11点44分', '11点45分', '11点46分', '11点47分', '11点48分', '11点49分', '11点50分', '11点51分', '11点52分', '11点53分', '11点54分', '11点55分', '11点56分', '11点57分', '11点58分', '11点59分']\n"
     ]
    },
    {
     "data": {
      "text/plain": [
       "<Figure size 2000x1600 with 1 Axes>"
      ]
     },
     "metadata": {},
     "output_type": "display_data"
    }
   ],
   "source": [
    "from matplotlib import pyplot\n",
    "from matplotlib import font_manager\n",
    "# 利用字体管理器加载字体\n",
    "# my_font=font_manager.FontProperties(fname=\"mmd.ttf\")\n",
    "pyplot.figure(figsize=(10,8),dpi=200)\n",
    "import random\n",
    "y=[random.randint(20,35) for i in range(120)]\n",
    "x=range(120)\n",
    "pyplot.plot(x,y)\n",
    "\n",
    "# 将刻度值变换成刻度的内容:字符串\n",
    "_xticks=[\"10点{}分\".format(i) for i in range(120) if i<60]\n",
    "_xticks+=[\"11点%s分\"%i for i in range(60)]\n",
    "print(_xticks)\n",
    "pyplot.xticks(x[::4],_xticks[::4],rotation=45) # font_properties=my_font\n",
    "pyplot.yticks(y)\n",
    "pyplot.savefig(\"/Users/camelia-dev/Desktop/1111111111111.png\")\n",
    "pyplot.show()"
   ]
  },
  {
   "cell_type": "code",
   "execution_count": null,
   "metadata": {},
   "outputs": [],
   "source": [
    "from matplotlib import pyplot\n",
    "from matplotlib import font_manager\n",
    "# 利用字体管理器加载字体\n",
    "my_font=font_manager.FontProperties(fname=\"mmd.ttf\")\n",
    "pyplot.figure(figsize=(10,8),dpi=200)\n",
    "import random\n",
    "y=[random.randint(20,35) for i in range(120)]\n",
    "x=range(120)\n",
    "pyplot.plot(x,y)\n",
    "\n",
    "# 将刻度值变换成刻度的内容:字符串\n",
    "_xticks=[\"10点{}分\".format(i) for i in range(120) if i<60]\n",
    "_xticks+=[\"11点%s分\"%i for i in range(60)]\n",
    "print(_xticks)\n",
    "pyplot.xticks(x[::4],_xticks[::4],rotation=45,font_properties=my_font)\n",
    "pyplot.yticks(y)\n",
    "pyplot.savefig(\"/Users/camelia-dev/Desktop/1111111111111.png\")\n",
    "pyplot.show()"
   ]
  }
 ],
 "metadata": {
  "kernelspec": {
   "display_name": "Python 3",
   "language": "python",
   "name": "python3"
  },
  "language_info": {
   "codemirror_mode": {
    "name": "ipython",
    "version": 3
   },
   "file_extension": ".py",
   "mimetype": "text/x-python",
   "name": "python",
   "nbconvert_exporter": "python",
   "pygments_lexer": "ipython3",
   "version": "3.6.5"
  }
 },
 "nbformat": 4,
 "nbformat_minor": 2
}
