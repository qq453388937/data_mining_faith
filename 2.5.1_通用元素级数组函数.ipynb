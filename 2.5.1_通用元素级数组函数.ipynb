{
 "cells": [
  {
   "cell_type": "markdown",
   "metadata": {},
   "source": [
    "##### 下面列举一些常用组函数使用案例"
   ]
  },
  {
   "cell_type": "code",
   "execution_count": 2,
   "metadata": {},
   "outputs": [
    {
     "data": {
      "text/plain": [
       "array([ 3.5,  1.7,  2.2, -7.8,  nan,  4.6, -3.4])"
      ]
     },
     "execution_count": 2,
     "metadata": {},
     "output_type": "execute_result"
    }
   ],
   "source": [
    "import numpy as np\n",
    "\n",
    "ndarray1 = np.array([3.5, 1.7, 2.2, -7.8, np.nan, 4.6, -3.4])\n",
    "ndarray1"
   ]
  },
  {
   "cell_type": "code",
   "execution_count": 124,
   "metadata": {},
   "outputs": [
    {
     "data": {
      "text/plain": [
       "array([ 3.5,  1.7,  2.2,  7.8,  nan,  4.6,  3.4])"
      ]
     },
     "execution_count": 124,
     "metadata": {},
     "output_type": "execute_result"
    }
   ],
   "source": [
    "# abs\t计算整数、浮点数的绝对值。\n",
    "np.abs(ndarray1)"
   ]
  },
  {
   "cell_type": "code",
   "execution_count": 125,
   "metadata": {},
   "outputs": [
    {
     "data": {
      "text/plain": [
       "array([ 12.25,   2.89,   4.84,  60.84,    nan,  21.16,  11.56])"
      ]
     },
     "execution_count": 125,
     "metadata": {},
     "output_type": "execute_result"
    }
   ],
   "source": [
    "# aqrt\t计算各元素的平方根。相当于arr ** 0.5\n",
    "np.square(ndarray1)"
   ]
  },
  {
   "cell_type": "code",
   "execution_count": 126,
   "metadata": {},
   "outputs": [
    {
     "data": {
      "text/plain": [
       "array([  1.,   1.,   1.,  -1.,  nan,   1.,  -1.])"
      ]
     },
     "execution_count": 126,
     "metadata": {},
     "output_type": "execute_result"
    }
   ],
   "source": [
    "# sign\t计算各元素的正负号,1(正数)、0（零）、-1(负数)\n",
    "np.sign(ndarray1)"
   ]
  },
  {
   "cell_type": "code",
   "execution_count": 127,
   "metadata": {
    "scrolled": true
   },
   "outputs": [
    {
     "data": {
      "text/plain": [
       "array([  4.,   2.,   3.,  -7.,  nan,   5.,  -3.])"
      ]
     },
     "execution_count": 127,
     "metadata": {},
     "output_type": "execute_result"
    }
   ],
   "source": [
    "# ceil\t计算各元素的celling值，即大于该值的最小整数。\n",
    "np.ceil(ndarray1)"
   ]
  },
  {
   "cell_type": "code",
   "execution_count": 128,
   "metadata": {},
   "outputs": [
    {
     "data": {
      "text/plain": [
       "array([  3.,   1.,   2.,  -8.,  nan,   4.,  -4.])"
      ]
     },
     "execution_count": 128,
     "metadata": {},
     "output_type": "execute_result"
    }
   ],
   "source": [
    "# floor\t计算各元素的floor值，即小于等于该值的最大整数。\n",
    "np.floor(ndarray1)"
   ]
  },
  {
   "cell_type": "code",
   "execution_count": 129,
   "metadata": {},
   "outputs": [
    {
     "data": {
      "text/plain": [
       "array([  4.,   2.,   2.,  -8.,  nan,   5.,  -3.])"
      ]
     },
     "execution_count": 129,
     "metadata": {},
     "output_type": "execute_result"
    }
   ],
   "source": [
    "# rint\t将各元素值四舍五入到最近的整数，保留dtype\n",
    "np.rint(ndarray1)"
   ]
  },
  {
   "cell_type": "code",
   "execution_count": 130,
   "metadata": {},
   "outputs": [
    {
     "data": {
      "text/plain": [
       "array([False, False, False, False,  True, False, False], dtype=bool)"
      ]
     },
     "execution_count": 130,
     "metadata": {},
     "output_type": "execute_result"
    }
   ],
   "source": [
    "# isnan\t返回一个表示“那些是NaN（这不是一个数字）”的布尔类型数组.\n",
    "np.isnan(ndarray1)"
   ]
  },
  {
   "cell_type": "markdown",
   "metadata": {},
   "source": [
    "##### 二元运算符"
   ]
  },
  {
   "cell_type": "code",
   "execution_count": 141,
   "metadata": {},
   "outputs": [],
   "source": [
    "ndarray2 = np.random.randint(1, 20, (4, 5))\n",
    "ndarray3 = np.random.randint(-10, 10, (4, 5))\n",
    "ndarray3 = np.where(ndarray3 == 0, 1, ndarray3)"
   ]
  },
  {
   "cell_type": "code",
   "execution_count": 142,
   "metadata": {},
   "outputs": [
    {
     "data": {
      "text/plain": [
       "array([[ 8, 13, 18, 12, 11],\n",
       "       [11, 19, 14,  8, 14],\n",
       "       [ 8,  6, 19, 19, 16],\n",
       "       [14,  7,  6,  6,  2]])"
      ]
     },
     "execution_count": 142,
     "metadata": {},
     "output_type": "execute_result"
    }
   ],
   "source": [
    "ndarray2"
   ]
  },
  {
   "cell_type": "code",
   "execution_count": 143,
   "metadata": {},
   "outputs": [
    {
     "data": {
      "text/plain": [
       "array([[  1,   7, -10,  -6,   5],\n",
       "       [ -5,   2,  -1,   2,   5],\n",
       "       [  5,   4,  -1,   1,  -1],\n",
       "       [ -1,  -4,   1,   3,   3]])"
      ]
     },
     "execution_count": 143,
     "metadata": {},
     "output_type": "execute_result"
    }
   ],
   "source": [
    "ndarray3"
   ]
  },
  {
   "cell_type": "code",
   "execution_count": 144,
   "metadata": {},
   "outputs": [
    {
     "data": {
      "text/plain": [
       "array([[ 9, 20,  8,  6, 16],\n",
       "       [ 6, 21, 13, 10, 19],\n",
       "       [13, 10, 18, 20, 15],\n",
       "       [13,  3,  7,  9,  5]])"
      ]
     },
     "execution_count": 144,
     "metadata": {},
     "output_type": "execute_result"
    }
   ],
   "source": [
    "# add\t将数组中对应的元素相加.\n",
    "np.add(ndarray2, ndarray3)"
   ]
  },
  {
   "cell_type": "code",
   "execution_count": 145,
   "metadata": {},
   "outputs": [
    {
     "data": {
      "text/plain": [
       "array([[ 7,  6, 28, 18,  6],\n",
       "       [16, 17, 15,  6,  9],\n",
       "       [ 3,  2, 20, 18, 17],\n",
       "       [15, 11,  5,  3, -1]])"
      ]
     },
     "execution_count": 145,
     "metadata": {},
     "output_type": "execute_result"
    }
   ],
   "source": [
    "# subtract\t从第一个数组中减去第二个数组中的元素.\n",
    "np.subtract(ndarray2, ndarray3)"
   ]
  },
  {
   "cell_type": "code",
   "execution_count": 146,
   "metadata": {},
   "outputs": [
    {
     "data": {
      "text/plain": [
       "array([[ 8, 13, 18, 12, 11],\n",
       "       [11, 19, 14,  8, 14],\n",
       "       [ 8,  6, 19, 19, 16],\n",
       "       [14,  7,  6,  6,  3]])"
      ]
     },
     "execution_count": 146,
     "metadata": {},
     "output_type": "execute_result"
    }
   ],
   "source": [
    "# maximum、fmax\t从两个数组中取出最大值。fmax将忽略NaN\n",
    "np.maximum(ndarray2, ndarray3)"
   ]
  },
  {
   "cell_type": "code",
   "execution_count": 147,
   "metadata": {},
   "outputs": [
    {
     "data": {
      "text/plain": [
       "array([[ 0,  6, -2,  0,  1],\n",
       "       [-4,  1,  0,  0,  4],\n",
       "       [ 3,  2,  0,  0,  0],\n",
       "       [ 0, -1,  0,  0,  2]])"
      ]
     },
     "execution_count": 147,
     "metadata": {},
     "output_type": "execute_result"
    }
   ],
   "source": [
    "# mod\t元素级的求模计算.\n",
    "np.mod(ndarray2, ndarray3)"
   ]
  },
  {
   "cell_type": "code",
   "execution_count": 148,
   "metadata": {},
   "outputs": [
    {
     "data": {
      "text/plain": [
       "array([[  8.,  13., -18., -12.,  11.],\n",
       "       [-11.,  19., -14.,   8.,  14.],\n",
       "       [  8.,   6., -19.,  19., -16.],\n",
       "       [-14.,  -7.,   6.,   6.,   2.]])"
      ]
     },
     "execution_count": 148,
     "metadata": {},
     "output_type": "execute_result"
    }
   ],
   "source": [
    "# copysign\t将第二个数组中的值的符号复制给第一个数组中的值.\n",
    "np.copysign(ndarray2, ndarray3)"
   ]
  },
  {
   "cell_type": "code",
   "execution_count": 149,
   "metadata": {},
   "outputs": [
    {
     "data": {
      "text/plain": [
       "array([[ True,  True,  True,  True,  True],\n",
       "       [ True,  True,  True,  True,  True],\n",
       "       [ True,  True,  True,  True,  True],\n",
       "       [ True,  True,  True,  True, False]], dtype=bool)"
      ]
     },
     "execution_count": 149,
     "metadata": {},
     "output_type": "execute_result"
    }
   ],
   "source": [
    "# greater、greater_equal\t执行元素级的运算比较，最终产生布尔类型数组。\n",
    "np.greater(ndarray2, ndarray3)"
   ]
  },
  {
   "cell_type": "code",
   "execution_count": null,
   "metadata": {},
   "outputs": [],
   "source": []
  }
 ],
 "metadata": {
  "kernelspec": {
   "display_name": "Python 3",
   "language": "python",
   "name": "python3"
  },
  "language_info": {
   "codemirror_mode": {
    "name": "ipython",
    "version": 3
   },
   "file_extension": ".py",
   "mimetype": "text/x-python",
   "name": "python",
   "nbconvert_exporter": "python",
   "pygments_lexer": "ipython3",
   "version": "3.6.5"
  }
 },
 "nbformat": 4,
 "nbformat_minor": 2
}
