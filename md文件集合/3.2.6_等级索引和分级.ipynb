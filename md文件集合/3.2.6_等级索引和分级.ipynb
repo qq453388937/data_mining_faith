{
 "cells": [
  {
   "cell_type": "code",
   "execution_count": 4,
   "metadata": {},
   "outputs": [
    {
     "data": {
      "text/plain": [
       "北京市  信息业    10\n",
       "     制造业    20\n",
       "     服务业    30\n",
       "河北省  信息业    40\n",
       "     制造业    50\n",
       "     服务业    60\n",
       "山东省  信息业    70\n",
       "     制造业    80\n",
       "     服务业    90\n",
       "dtype: int64"
      ]
     },
     "execution_count": 4,
     "metadata": {},
     "output_type": "execute_result"
    }
   ],
   "source": [
    "from pandas import Series, DataFrame\n",
    "import pandas as pd\n",
    "import numpy as np\n",
    "\n",
    "areas_economy = Series(\n",
    "    np.arange(10, 100, 10),\n",
    "    index=[\n",
    "        ['北京市', '北京市', '北京市', '河北省', '河北省', '河北省', '山东省', '山东省', '山东省'],\n",
    "        ['信息业', '制造业', '服务业', '信息业', '制造业', '服务业', '信息业', '制造业', '服务业']])\n",
    "\n",
    "areas_economy"
   ]
  },
  {
   "cell_type": "markdown",
   "metadata": {},
   "source": [
    "#### 1. 层级索引取值和索引sort_index排序"
   ]
  },
  {
   "cell_type": "code",
   "execution_count": 5,
   "metadata": {},
   "outputs": [
    {
     "data": {
      "text/plain": [
       "信息业    70\n",
       "制造业    80\n",
       "服务业    90\n",
       "dtype: int64"
      ]
     },
     "execution_count": 5,
     "metadata": {},
     "output_type": "execute_result"
    }
   ],
   "source": [
    "# 1. 获得一个省的信息\n",
    "areas_economy['山东省']"
   ]
  },
  {
   "cell_type": "code",
   "execution_count": 17,
   "metadata": {},
   "outputs": [
    {
     "data": {
      "text/plain": [
       "河北省  信息业    40\n",
       "     制造业    50\n",
       "     服务业    60\n",
       "山东省  信息业    70\n",
       "     制造业    80\n",
       "     服务业    90\n",
       "dtype: int64"
      ]
     },
     "execution_count": 17,
     "metadata": {},
     "output_type": "execute_result"
    }
   ],
   "source": [
    "# 2. 获得多个省信息\n",
    "areas_economy[['河北省', '山东省']]"
   ]
  },
  {
   "cell_type": "code",
   "execution_count": 21,
   "metadata": {},
   "outputs": [
    {
     "data": {
      "text/plain": [
       "北京市    20\n",
       "河北省    50\n",
       "山东省    80\n",
       "dtype: int64"
      ]
     },
     "execution_count": 21,
     "metadata": {},
     "output_type": "execute_result"
    }
   ],
   "source": [
    "# 3. 获得所有省的制造业信息\n",
    "areas_economy[:, '制造业']\n",
    "# 获得多个省制造业信息错误写法\n",
    "# areas_economy[['河北省', '山东省'], '制造业']"
   ]
  },
  {
   "cell_type": "code",
   "execution_count": 24,
   "metadata": {},
   "outputs": [
    {
     "data": {
      "text/plain": [
       "河北省  制造业    50\n",
       "山东省  制造业    80\n",
       "dtype: int64"
      ]
     },
     "execution_count": 24,
     "metadata": {},
     "output_type": "execute_result"
    }
   ],
   "source": [
    "# 4. 获得多个省制造业信息\n",
    "areas_economy.loc[['河北省', '山东省'], '制造业']"
   ]
  },
  {
   "cell_type": "code",
   "execution_count": 25,
   "metadata": {},
   "outputs": [
    {
     "data": {
      "text/plain": [
       "河北省  制造业    50\n",
       "     服务业    60\n",
       "山东省  制造业    80\n",
       "     服务业    90\n",
       "dtype: int64"
      ]
     },
     "execution_count": 25,
     "metadata": {},
     "output_type": "execute_result"
    }
   ],
   "source": [
    "# 5. 获得多个省制造业、服务业信息\n",
    "areas_economy.loc[['河北省', '山东省'], ['制造业', '服务业']]"
   ]
  },
  {
   "cell_type": "code",
   "execution_count": 11,
   "metadata": {},
   "outputs": [
    {
     "data": {
      "text/plain": [
       "北京市  信息业    10\n",
       "     制造业    20\n",
       "     服务业    30\n",
       "山东省  信息业    70\n",
       "     制造业    80\n",
       "     服务业    90\n",
       "dtype: int64"
      ]
     },
     "execution_count": 11,
     "metadata": {},
     "output_type": "execute_result"
    }
   ],
   "source": [
    "# 需要对最外层排序之后才可执行切片索引\n",
    "areas_economy.sort_index()['北京市':'山东省']"
   ]
  },
  {
   "cell_type": "code",
   "execution_count": 31,
   "metadata": {},
   "outputs": [
    {
     "data": {
      "text/plain": [
       "信息业  北京市    10\n",
       "制造业  北京市    20\n",
       "服务业  北京市    30\n",
       "信息业  河北省    40\n",
       "制造业  河北省    50\n",
       "服务业  河北省    60\n",
       "信息业  山东省    70\n",
       "制造业  山东省    80\n",
       "服务业  山东省    90\n",
       "dtype: int64"
      ]
     },
     "execution_count": 31,
     "metadata": {},
     "output_type": "execute_result"
    }
   ],
   "source": [
    "# 交换索引\n",
    "areas_economy.swaplevel()"
   ]
  },
  {
   "cell_type": "code",
   "execution_count": 37,
   "metadata": {},
   "outputs": [
    {
     "data": {
      "text/plain": [
       "北京市  信息业    10\n",
       "     制造业    20\n",
       "     服务业    30\n",
       "山东省  信息业    70\n",
       "     制造业    80\n",
       "     服务业    90\n",
       "河北省  信息业    40\n",
       "     制造业    50\n",
       "     服务业    60\n",
       "dtype: int64"
      ]
     },
     "execution_count": 37,
     "metadata": {},
     "output_type": "execute_result"
    }
   ],
   "source": [
    "# 对索引进行排序, 可通过level=0或1指定根据那层索引排序\n",
    "areas_economy.sort_index(level=0)"
   ]
  },
  {
   "cell_type": "markdown",
   "metadata": {},
   "source": [
    "##### 2. 按层级统计数据"
   ]
  },
  {
   "cell_type": "code",
   "execution_count": 228,
   "metadata": {},
   "outputs": [
    {
     "data": {
      "text/plain": [
       "北京市  信息业    10\n",
       "     制造业    20\n",
       "     服务业    30\n",
       "河北省  信息业    40\n",
       "     制造业    50\n",
       "     服务业    60\n",
       "山东省  信息业    70\n",
       "     制造业    80\n",
       "     服务业    90\n",
       "dtype: int64"
      ]
     },
     "execution_count": 228,
     "metadata": {},
     "output_type": "execute_result"
    }
   ],
   "source": [
    "# 计算北京市经济总量\n",
    "areas_economy['北京市'].sum()\n",
    "# 计算山东省三大行业的平均经济总量\n",
    "areas_economy['山东省'].mean()"
   ]
  },
  {
   "cell_type": "code",
   "execution_count": 229,
   "metadata": {},
   "outputs": [
    {
     "data": {
      "text/plain": [
       "信息业    120\n",
       "制造业    150\n",
       "服务业    180\n",
       "dtype: int64"
      ]
     },
     "execution_count": 229,
     "metadata": {},
     "output_type": "execute_result"
    }
   ],
   "source": [
    "# 统计每个行业的经济总量\n",
    "areas_economy.sum(level=1)"
   ]
  },
  {
   "cell_type": "code",
   "execution_count": 39,
   "metadata": {},
   "outputs": [
    {
     "data": {
      "text/html": [
       "<div>\n",
       "<style scoped>\n",
       "    .dataframe tbody tr th:only-of-type {\n",
       "        vertical-align: middle;\n",
       "    }\n",
       "\n",
       "    .dataframe tbody tr th {\n",
       "        vertical-align: top;\n",
       "    }\n",
       "\n",
       "    .dataframe thead tr th {\n",
       "        text-align: left;\n",
       "    }\n",
       "</style>\n",
       "<table border=\"1\" class=\"dataframe\">\n",
       "  <thead>\n",
       "    <tr>\n",
       "      <th></th>\n",
       "      <th></th>\n",
       "      <th colspan=\"2\" halign=\"left\">轻工业</th>\n",
       "      <th colspan=\"2\" halign=\"left\">重工业</th>\n",
       "      <th colspan=\"2\" halign=\"left\">服务业</th>\n",
       "    </tr>\n",
       "    <tr>\n",
       "      <th></th>\n",
       "      <th></th>\n",
       "      <th>纺织业</th>\n",
       "      <th>食品业</th>\n",
       "      <th>冶金业</th>\n",
       "      <th>采煤业</th>\n",
       "      <th>教育业</th>\n",
       "      <th>游戏业</th>\n",
       "    </tr>\n",
       "  </thead>\n",
       "  <tbody>\n",
       "    <tr>\n",
       "      <th rowspan=\"2\" valign=\"top\">北京市</th>\n",
       "      <th>昌平区</th>\n",
       "      <td>0</td>\n",
       "      <td>10</td>\n",
       "      <td>20</td>\n",
       "      <td>30</td>\n",
       "      <td>40</td>\n",
       "      <td>50</td>\n",
       "    </tr>\n",
       "    <tr>\n",
       "      <th>海淀区</th>\n",
       "      <td>60</td>\n",
       "      <td>70</td>\n",
       "      <td>80</td>\n",
       "      <td>90</td>\n",
       "      <td>100</td>\n",
       "      <td>110</td>\n",
       "    </tr>\n",
       "    <tr>\n",
       "      <th rowspan=\"2\" valign=\"top\">河北省</th>\n",
       "      <th>石家庄</th>\n",
       "      <td>120</td>\n",
       "      <td>130</td>\n",
       "      <td>140</td>\n",
       "      <td>150</td>\n",
       "      <td>160</td>\n",
       "      <td>170</td>\n",
       "    </tr>\n",
       "    <tr>\n",
       "      <th>张家口</th>\n",
       "      <td>180</td>\n",
       "      <td>190</td>\n",
       "      <td>200</td>\n",
       "      <td>210</td>\n",
       "      <td>220</td>\n",
       "      <td>230</td>\n",
       "    </tr>\n",
       "    <tr>\n",
       "      <th rowspan=\"2\" valign=\"top\">河南省</th>\n",
       "      <th>驻马店</th>\n",
       "      <td>240</td>\n",
       "      <td>250</td>\n",
       "      <td>260</td>\n",
       "      <td>270</td>\n",
       "      <td>280</td>\n",
       "      <td>290</td>\n",
       "    </tr>\n",
       "    <tr>\n",
       "      <th>平顶山</th>\n",
       "      <td>300</td>\n",
       "      <td>310</td>\n",
       "      <td>320</td>\n",
       "      <td>330</td>\n",
       "      <td>340</td>\n",
       "      <td>350</td>\n",
       "    </tr>\n",
       "  </tbody>\n",
       "</table>\n",
       "</div>"
      ],
      "text/plain": [
       "         轻工业       重工业       服务业     \n",
       "         纺织业  食品业  冶金业  采煤业  教育业  游戏业\n",
       "北京市 昌平区    0   10   20   30   40   50\n",
       "    海淀区   60   70   80   90  100  110\n",
       "河北省 石家庄  120  130  140  150  160  170\n",
       "    张家口  180  190  200  210  220  230\n",
       "河南省 驻马店  240  250  260  270  280  290\n",
       "    平顶山  300  310  320  330  340  350"
      ]
     },
     "execution_count": 39,
     "metadata": {},
     "output_type": "execute_result"
    }
   ],
   "source": [
    "data_frame1 = DataFrame(\n",
    "    np.arange(0, 360, 10).reshape((6, 6)), \n",
    "    index=[\n",
    "        ['北京市', '北京市', '河北省', '河北省', '河南省', '河南省'],\n",
    "        ['昌平区', '海淀区', '石家庄', '张家口', '驻马店', '平顶山'],\n",
    "    ], \n",
    "    columns=[\n",
    "        ['轻工业', '轻工业', '重工业', '重工业', '服务业', '服务业'],\n",
    "        ['纺织业', '食品业', '冶金业', '采煤业', '教育业', '游戏业'],\n",
    "    ]\n",
    ")\n",
    "\n",
    "data_frame1"
   ]
  },
  {
   "cell_type": "code",
   "execution_count": 41,
   "metadata": {},
   "outputs": [
    {
     "data": {
      "text/html": [
       "<div>\n",
       "<style scoped>\n",
       "    .dataframe tbody tr th:only-of-type {\n",
       "        vertical-align: middle;\n",
       "    }\n",
       "\n",
       "    .dataframe tbody tr th {\n",
       "        vertical-align: top;\n",
       "    }\n",
       "\n",
       "    .dataframe thead th {\n",
       "        text-align: right;\n",
       "    }\n",
       "</style>\n",
       "<table border=\"1\" class=\"dataframe\">\n",
       "  <thead>\n",
       "    <tr style=\"text-align: right;\">\n",
       "      <th></th>\n",
       "      <th></th>\n",
       "      <th>冶金业</th>\n",
       "      <th>采煤业</th>\n",
       "    </tr>\n",
       "  </thead>\n",
       "  <tbody>\n",
       "    <tr>\n",
       "      <th rowspan=\"2\" valign=\"top\">北京市</th>\n",
       "      <th>昌平区</th>\n",
       "      <td>20</td>\n",
       "      <td>30</td>\n",
       "    </tr>\n",
       "    <tr>\n",
       "      <th>海淀区</th>\n",
       "      <td>80</td>\n",
       "      <td>90</td>\n",
       "    </tr>\n",
       "    <tr>\n",
       "      <th rowspan=\"2\" valign=\"top\">河北省</th>\n",
       "      <th>石家庄</th>\n",
       "      <td>140</td>\n",
       "      <td>150</td>\n",
       "    </tr>\n",
       "    <tr>\n",
       "      <th>张家口</th>\n",
       "      <td>200</td>\n",
       "      <td>210</td>\n",
       "    </tr>\n",
       "    <tr>\n",
       "      <th rowspan=\"2\" valign=\"top\">河南省</th>\n",
       "      <th>驻马店</th>\n",
       "      <td>260</td>\n",
       "      <td>270</td>\n",
       "    </tr>\n",
       "    <tr>\n",
       "      <th>平顶山</th>\n",
       "      <td>320</td>\n",
       "      <td>330</td>\n",
       "    </tr>\n",
       "  </tbody>\n",
       "</table>\n",
       "</div>"
      ],
      "text/plain": [
       "         冶金业  采煤业\n",
       "北京市 昌平区   20   30\n",
       "    海淀区   80   90\n",
       "河北省 石家庄  140  150\n",
       "    张家口  200  210\n",
       "河南省 驻马店  260  270\n",
       "    平顶山  320  330"
      ]
     },
     "execution_count": 41,
     "metadata": {},
     "output_type": "execute_result"
    }
   ],
   "source": [
    "data_frame1['重工业']"
   ]
  },
  {
   "cell_type": "code",
   "execution_count": 42,
   "metadata": {},
   "outputs": [
    {
     "data": {
      "text/html": [
       "<div>\n",
       "<style scoped>\n",
       "    .dataframe tbody tr th:only-of-type {\n",
       "        vertical-align: middle;\n",
       "    }\n",
       "\n",
       "    .dataframe tbody tr th {\n",
       "        vertical-align: top;\n",
       "    }\n",
       "\n",
       "    .dataframe thead th {\n",
       "        text-align: right;\n",
       "    }\n",
       "</style>\n",
       "<table border=\"1\" class=\"dataframe\">\n",
       "  <thead>\n",
       "    <tr style=\"text-align: right;\">\n",
       "      <th></th>\n",
       "      <th>冶金业</th>\n",
       "      <th>采煤业</th>\n",
       "    </tr>\n",
       "  </thead>\n",
       "  <tbody>\n",
       "    <tr>\n",
       "      <th>石家庄</th>\n",
       "      <td>140</td>\n",
       "      <td>150</td>\n",
       "    </tr>\n",
       "    <tr>\n",
       "      <th>张家口</th>\n",
       "      <td>200</td>\n",
       "      <td>210</td>\n",
       "    </tr>\n",
       "  </tbody>\n",
       "</table>\n",
       "</div>"
      ],
      "text/plain": [
       "     冶金业  采煤业\n",
       "石家庄  140  150\n",
       "张家口  200  210"
      ]
     },
     "execution_count": 42,
     "metadata": {},
     "output_type": "execute_result"
    }
   ],
   "source": [
    "data_frame1.loc['河北省']\n",
    "data_frame1.loc['河北省']['重工业']"
   ]
  }
 ],
 "metadata": {
  "kernelspec": {
   "display_name": "Python 3",
   "language": "python",
   "name": "python3"
  },
  "language_info": {
   "codemirror_mode": {
    "name": "ipython",
    "version": 3
   },
   "file_extension": ".py",
   "mimetype": "text/x-python",
   "name": "python",
   "nbconvert_exporter": "python",
   "pygments_lexer": "ipython3",
   "version": "3.5.4"
  }
 },
 "nbformat": 4,
 "nbformat_minor": 2
}
